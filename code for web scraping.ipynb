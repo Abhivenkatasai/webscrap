{
 "cells": [
  {
   "cell_type": "code",
   "execution_count": null,
   "id": "a50dd0fa",
   "metadata": {},
   "outputs": [],
   "source": [
    "from bs4.element import NamespacedAttribute\n",
    "import requests\n",
    "from bs4 import BeautifulSoup\n",
    "import csv\n",
    "import pandas as pd\n",
    "url = 'https://www.stfrancismedicalcenter.com/find-a-provider/'\n",
    "df=pd.DataFrame()\n",
    "data=[]\n",
    "for j in range(1,41): \n",
    "    page = requests.post(url,data={\"PhysicianSearch$FTR01$PagingID\":j})\n",
    "    if(page.status_code == 200):\n",
    "        soup = BeautifulSoup(page.text,\"html.parser\")\n",
    "        nlist = soup.findAll('span',class_='start')\n",
    "        Nlist = soup.findAll('span',class_='title-style-5')\n",
    "        Slist = soup.findAll('div', class_=\"specialty-list items-1 note-style-1 ui-repeater\")\n",
    "        Plist = soup.findAll('li',class_=\"inline-svg phone\")\n",
    "        Alist=soup.findAll('ul',class_='mar-t-1')\n",
    "        Vlist = soup.findAll('span',class_='link-style-1 mar-t-1')\n",
    "        for i in range(0, len(Slist)):\n",
    "             N = Nlist[i].text\n",
    "             S = Slist[i].text.replace('\\n',\"\")\n",
    "             P = Plist[i].text.replace('\\n',\"\").replace('\\t',\"\")\n",
    "             A = Alist[i].text.replace('\\n',\"\").replace('\\t',\"\")\n",
    "             V = Vlist[i].text\n",
    "             data.insert(i,[N,S,P,A,V,url])\n",
    "df = pd.DataFrame(data,columns=['names','specialists','phonenumbers','Address','viewprofiles','url'])\n",
    "print(df)\n",
    "df.to_csv(\"output for web scraping.csv\")\n",
    "print(df)"
   ]
  },
  {
   "cell_type": "code",
   "execution_count": null,
   "id": "130751e0",
   "metadata": {},
   "outputs": [],
   "source": []
  }
 ],
 "metadata": {
  "kernelspec": {
   "display_name": "Python 3 (ipykernel)",
   "language": "python",
   "name": "python3"
  },
  "language_info": {
   "codemirror_mode": {
    "name": "ipython",
    "version": 3
   },
   "file_extension": ".py",
   "mimetype": "text/x-python",
   "name": "python",
   "nbconvert_exporter": "python",
   "pygments_lexer": "ipython3",
   "version": "3.9.12"
  }
 },
 "nbformat": 4,
 "nbformat_minor": 5
}
